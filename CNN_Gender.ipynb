{
 "cells": [
  {
   "cell_type": "code",
   "execution_count": 10,
   "metadata": {},
   "outputs": [],
   "source": [
    "import numpy as np\n",
    "import tensorflow as tf\n",
    "from tensorflow.keras.preprocessing.image import ImageDataGenerator\n",
    "from tensorflow.keras.models import Sequential\n",
    "from tensorflow.keras.layers import Conv2D, MaxPooling2D, Flatten, Dense\n",
    "from tensorflow.keras.layers import Input,Activation,Add,Dropout\n",
    "from tensorflow.keras.models import Model\n",
    "from tensorflow.keras.regularizers import l2"
   ]
  },
  {
   "cell_type": "code",
   "execution_count": 11,
   "metadata": {},
   "outputs": [],
   "source": [
    "IMAGE_SIZE = (48, 48)\n",
    "BATCH_SIZE = 32\n",
    "EPOCHS = 20\n",
    "\n",
    "train_data_dir = \"dataset/Gender/train\""
   ]
  },
  {
   "cell_type": "code",
   "execution_count": 12,
   "metadata": {},
   "outputs": [
    {
     "name": "stdout",
     "output_type": "stream",
     "text": [
      "Found 1600 images belonging to 2 classes.\n"
     ]
    }
   ],
   "source": [
    "train_datagen = ImageDataGenerator(\n",
    "    rescale=1./255,\n",
    "    shear_range=0.2,\n",
    "    zoom_range=0.2,\n",
    "    horizontal_flip=True,\n",
    "    vertical_flip=True\n",
    ")\n",
    "\n",
    "train_generator = train_datagen.flow_from_directory(\n",
    "    train_data_dir,\n",
    "    target_size=IMAGE_SIZE,\n",
    "    batch_size=BATCH_SIZE,\n",
    "    class_mode='categorical',\n",
    "    classes=['man', 'woman']\n",
    ")\n"
   ]
  },
  {
   "cell_type": "code",
   "execution_count": 14,
   "metadata": {},
   "outputs": [
    {
     "name": "stdout",
     "output_type": "stream",
     "text": [
      "Epoch 1/20\n",
      "50/50 [==============================] - 4s 62ms/step - loss: 0.7298 - accuracy: 0.5038\n",
      "Epoch 2/20\n",
      "50/50 [==============================] - 3s 62ms/step - loss: 0.6926 - accuracy: 0.5194\n",
      "Epoch 3/20\n",
      "50/50 [==============================] - 3s 63ms/step - loss: 0.6864 - accuracy: 0.5456\n",
      "Epoch 4/20\n",
      "50/50 [==============================] - 3s 63ms/step - loss: 0.6733 - accuracy: 0.5775\n",
      "Epoch 5/20\n",
      "50/50 [==============================] - 3s 64ms/step - loss: 0.6579 - accuracy: 0.6100\n",
      "Epoch 6/20\n",
      "50/50 [==============================] - 3s 63ms/step - loss: 0.6379 - accuracy: 0.6394\n",
      "Epoch 7/20\n",
      "50/50 [==============================] - 3s 65ms/step - loss: 0.6065 - accuracy: 0.6694\n",
      "Epoch 8/20\n",
      "50/50 [==============================] - 3s 63ms/step - loss: 0.5689 - accuracy: 0.7081\n",
      "Epoch 9/20\n",
      "50/50 [==============================] - 4s 73ms/step - loss: 0.5508 - accuracy: 0.7163\n",
      "Epoch 10/20\n",
      "50/50 [==============================] - 4s 73ms/step - loss: 0.5166 - accuracy: 0.7425\n",
      "Epoch 11/20\n",
      "50/50 [==============================] - 3s 68ms/step - loss: 0.5262 - accuracy: 0.7319\n",
      "Epoch 12/20\n",
      "50/50 [==============================] - 3s 68ms/step - loss: 0.5182 - accuracy: 0.7450\n",
      "Epoch 13/20\n",
      "50/50 [==============================] - 4s 72ms/step - loss: 0.4993 - accuracy: 0.7550\n",
      "Epoch 14/20\n",
      "50/50 [==============================] - 4s 71ms/step - loss: 0.4789 - accuracy: 0.7631\n",
      "Epoch 15/20\n",
      "50/50 [==============================] - 3s 68ms/step - loss: 0.4872 - accuracy: 0.7731\n",
      "Epoch 16/20\n",
      "50/50 [==============================] - 3s 66ms/step - loss: 0.4802 - accuracy: 0.7700\n",
      "Epoch 17/20\n",
      "50/50 [==============================] - 4s 70ms/step - loss: 0.4398 - accuracy: 0.8075\n",
      "Epoch 18/20\n",
      "18/50 [=========>....................] - ETA: 2s - loss: 0.4692 - accuracy: 0.7708"
     ]
    }
   ],
   "source": [
    "model = Sequential()\n",
    "model.add(Conv2D(32, (3, 3), input_shape=(48, 48, 3), activation='relu'))\n",
    "model.add(MaxPooling2D(pool_size=(2, 2)))\n",
    "model.add(Dropout(0.5))\n",
    "model.add(Conv2D(64, (3, 3), activation='relu'))\n",
    "model.add(MaxPooling2D(pool_size=(2, 2)))\n",
    "model.add(Dropout(0.5))\n",
    "model.add(Conv2D(128, (3, 3), activation='relu'))\n",
    "model.add(MaxPooling2D(pool_size=(2, 2)))\n",
    "model.add(Dropout(0.5))\n",
    "model.add(Conv2D(256, (3, 3), activation='relu'))\n",
    "model.add(MaxPooling2D(pool_size=(2, 2)))\n",
    "model.add(Flatten())\n",
    "model.add(Dense(128, activation='relu'))\n",
    "model.add(Dense(2, activation='softmax'))\n",
    "\n",
    "model.compile(optimizer='adam', loss='categorical_crossentropy', metrics=['accuracy'])\n",
    "\n",
    "# with tf.device('/GPU:0'):\n",
    "model.fit(train_generator, epochs=EPOCHS)"
   ]
  },
  {
   "cell_type": "code",
   "execution_count": null,
   "metadata": {},
   "outputs": [],
   "source": [
    "model.save('gender_detection_model.keras')"
   ]
  }
 ],
 "metadata": {
  "kernelspec": {
   "display_name": "dl_env",
   "language": "python",
   "name": "python3"
  },
  "language_info": {
   "codemirror_mode": {
    "name": "ipython",
    "version": 3
   },
   "file_extension": ".py",
   "mimetype": "text/x-python",
   "name": "python",
   "nbconvert_exporter": "python",
   "pygments_lexer": "ipython3",
   "version": "3.11.6"
  }
 },
 "nbformat": 4,
 "nbformat_minor": 2
}
