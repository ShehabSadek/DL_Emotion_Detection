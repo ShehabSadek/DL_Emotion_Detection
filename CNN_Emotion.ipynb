{
 "cells": [
  {
   "cell_type": "code",
   "execution_count": 13,
   "metadata": {},
   "outputs": [],
   "source": [
    "import numpy as np\n",
    "import tensorflow as tf\n",
    "from tensorflow.keras.preprocessing.image import ImageDataGenerator\n",
    "from tensorflow.keras.models import Sequential\n",
    "from tensorflow.keras.layers import Conv2D, MaxPooling2D, Flatten, Dense\n",
    "from tensorflow.keras.layers import Input,Activation,Add,Dropout\n",
    "from tensorflow.keras.models import Model\n",
    "from tensorflow.keras.regularizers import l2"
   ]
  },
  {
   "cell_type": "code",
   "execution_count": 19,
   "metadata": {},
   "outputs": [],
   "source": [
    "IMAGE_SIZE = (48, 48)\n",
    "BATCH_SIZE = 128\n",
    "EPOCHS = 50\n",
    "\n",
    "train_data_dir = \"dataset/train\""
   ]
  },
  {
   "cell_type": "code",
   "execution_count": 20,
   "metadata": {},
   "outputs": [
    {
     "name": "stdout",
     "output_type": "stream",
     "text": [
      "Found 28709 images belonging to 7 classes.\n"
     ]
    }
   ],
   "source": [
    "train_datagen = ImageDataGenerator(\n",
    "    rescale=1./255,\n",
    "    shear_range=0.2,\n",
    "    zoom_range=0.2,\n",
    "    horizontal_flip=True,\n",
    "    vertical_flip=True\n",
    ")\n",
    "\n",
    "train_generator = train_datagen.flow_from_directory(\n",
    "    train_data_dir,\n",
    "    target_size=IMAGE_SIZE,\n",
    "    batch_size=BATCH_SIZE,\n",
    "    class_mode='categorical',\n",
    "    classes=['angry', 'disgusted', 'fearful', 'happy', 'neutral', 'sad', 'surprised']\n",
    ")\n"
   ]
  },
  {
   "cell_type": "code",
   "execution_count": 21,
   "metadata": {},
   "outputs": [
    {
     "name": "stdout",
     "output_type": "stream",
     "text": [
      "Epoch 1/50\n"
     ]
    },
    {
     "name": "stderr",
     "output_type": "stream",
     "text": [
      "2023-12-11 03:19:12.246878: E tensorflow/core/grappler/optimizers/meta_optimizer.cc:961] layout failed: INVALID_ARGUMENT: Size of values 0 does not match size of permutation 4 @ fanin shape insequential_2/dropout_18/dropout/SelectV2-2-TransposeNHWCToNCHW-LayoutOptimizer\n"
     ]
    },
    {
     "name": "stdout",
     "output_type": "stream",
     "text": [
      "449/449 [==============================] - 5s 8ms/step - loss: 1.8157 - accuracy: 0.2489\n",
      "Epoch 2/50\n",
      "449/449 [==============================] - 4s 8ms/step - loss: 1.7884 - accuracy: 0.2547\n",
      "Epoch 3/50\n",
      "449/449 [==============================] - 4s 8ms/step - loss: 1.7398 - accuracy: 0.2853\n",
      "Epoch 4/50\n",
      "449/449 [==============================] - 4s 8ms/step - loss: 1.6748 - accuracy: 0.3230\n",
      "Epoch 5/50\n",
      "449/449 [==============================] - 4s 8ms/step - loss: 1.6177 - accuracy: 0.3604\n",
      "Epoch 6/50\n",
      "449/449 [==============================] - 4s 8ms/step - loss: 1.5766 - accuracy: 0.3821\n",
      "Epoch 7/50\n",
      "449/449 [==============================] - 4s 8ms/step - loss: 1.5352 - accuracy: 0.4020\n",
      "Epoch 8/50\n",
      "449/449 [==============================] - 4s 8ms/step - loss: 1.5189 - accuracy: 0.4079\n",
      "Epoch 9/50\n",
      "449/449 [==============================] - 4s 8ms/step - loss: 1.4988 - accuracy: 0.4184\n",
      "Epoch 10/50\n",
      "449/449 [==============================] - 4s 8ms/step - loss: 1.4801 - accuracy: 0.4261\n",
      "Epoch 11/50\n",
      "449/449 [==============================] - 4s 8ms/step - loss: 1.4679 - accuracy: 0.4314\n",
      "Epoch 12/50\n",
      "449/449 [==============================] - 4s 8ms/step - loss: 1.4534 - accuracy: 0.4374\n",
      "Epoch 13/50\n",
      "449/449 [==============================] - 4s 8ms/step - loss: 1.4422 - accuracy: 0.4409\n",
      "Epoch 14/50\n",
      "449/449 [==============================] - 4s 8ms/step - loss: 1.4345 - accuracy: 0.4424\n",
      "Epoch 15/50\n",
      "449/449 [==============================] - 4s 8ms/step - loss: 1.4159 - accuracy: 0.4563\n",
      "Epoch 16/50\n",
      "449/449 [==============================] - 4s 8ms/step - loss: 1.4128 - accuracy: 0.4540\n",
      "Epoch 17/50\n",
      "449/449 [==============================] - 4s 8ms/step - loss: 1.3966 - accuracy: 0.4584\n",
      "Epoch 18/50\n",
      "449/449 [==============================] - 4s 8ms/step - loss: 1.4006 - accuracy: 0.4586\n",
      "Epoch 19/50\n",
      "449/449 [==============================] - 4s 8ms/step - loss: 1.3837 - accuracy: 0.4654\n",
      "Epoch 20/50\n",
      "449/449 [==============================] - 4s 8ms/step - loss: 1.3780 - accuracy: 0.4685\n",
      "Epoch 21/50\n",
      "449/449 [==============================] - 4s 8ms/step - loss: 1.3716 - accuracy: 0.4710\n",
      "Epoch 22/50\n",
      "449/449 [==============================] - 4s 8ms/step - loss: 1.3647 - accuracy: 0.4707\n",
      "Epoch 23/50\n",
      "449/449 [==============================] - 4s 8ms/step - loss: 1.3626 - accuracy: 0.4741\n",
      "Epoch 24/50\n",
      "449/449 [==============================] - 4s 8ms/step - loss: 1.3511 - accuracy: 0.4792\n",
      "Epoch 25/50\n",
      "449/449 [==============================] - 4s 8ms/step - loss: 1.3509 - accuracy: 0.4789\n",
      "Epoch 26/50\n",
      "449/449 [==============================] - 4s 8ms/step - loss: 1.3474 - accuracy: 0.4793\n",
      "Epoch 27/50\n",
      "449/449 [==============================] - 4s 8ms/step - loss: 1.3429 - accuracy: 0.4827\n",
      "Epoch 28/50\n",
      "449/449 [==============================] - 4s 8ms/step - loss: 1.3339 - accuracy: 0.4881\n",
      "Epoch 29/50\n",
      "449/449 [==============================] - 4s 8ms/step - loss: 1.3269 - accuracy: 0.4875\n",
      "Epoch 30/50\n",
      "449/449 [==============================] - 4s 8ms/step - loss: 1.3229 - accuracy: 0.4913\n",
      "Epoch 31/50\n",
      "449/449 [==============================] - 4s 8ms/step - loss: 1.3250 - accuracy: 0.4897\n",
      "Epoch 32/50\n",
      "449/449 [==============================] - 4s 8ms/step - loss: 1.3171 - accuracy: 0.4948\n",
      "Epoch 33/50\n",
      "449/449 [==============================] - 4s 8ms/step - loss: 1.3201 - accuracy: 0.4951\n",
      "Epoch 34/50\n",
      "449/449 [==============================] - 4s 8ms/step - loss: 1.3127 - accuracy: 0.4958\n",
      "Epoch 35/50\n",
      "449/449 [==============================] - 4s 8ms/step - loss: 1.3041 - accuracy: 0.4959\n",
      "Epoch 36/50\n",
      "449/449 [==============================] - 4s 8ms/step - loss: 1.3084 - accuracy: 0.4937\n",
      "Epoch 37/50\n",
      "449/449 [==============================] - 4s 8ms/step - loss: 1.3007 - accuracy: 0.5018\n",
      "Epoch 38/50\n",
      "449/449 [==============================] - 4s 8ms/step - loss: 1.3036 - accuracy: 0.4973\n",
      "Epoch 39/50\n",
      "449/449 [==============================] - 4s 8ms/step - loss: 1.2963 - accuracy: 0.5025\n",
      "Epoch 40/50\n",
      "449/449 [==============================] - 4s 8ms/step - loss: 1.2912 - accuracy: 0.5013\n",
      "Epoch 41/50\n",
      "449/449 [==============================] - 4s 8ms/step - loss: 1.2897 - accuracy: 0.5036\n",
      "Epoch 42/50\n",
      "449/449 [==============================] - 4s 8ms/step - loss: 1.2874 - accuracy: 0.5072\n",
      "Epoch 43/50\n",
      "449/449 [==============================] - 4s 8ms/step - loss: 1.2872 - accuracy: 0.5062\n",
      "Epoch 44/50\n",
      "449/449 [==============================] - 4s 9ms/step - loss: 1.2827 - accuracy: 0.5060\n",
      "Epoch 45/50\n",
      "449/449 [==============================] - 4s 9ms/step - loss: 1.2869 - accuracy: 0.5045\n",
      "Epoch 46/50\n",
      "328/449 [====================>.........] - ETA: 1s - loss: 1.2786 - accuracy: 0.5057"
     ]
    }
   ],
   "source": [
    "model = Sequential()\n",
    "model.add(Conv2D(32, (3, 3), input_shape=(48, 48, 3), activation='relu'))\n",
    "model.add(MaxPooling2D(pool_size=(2, 2)))\n",
    "model.add(Dropout(0.5))\n",
    "model.add(Conv2D(64, (3, 3), activation='relu'))\n",
    "model.add(MaxPooling2D(pool_size=(2, 2)))\n",
    "model.add(Dropout(0.5))\n",
    "model.add(Conv2D(128, (3, 3), activation='relu'))\n",
    "model.add(MaxPooling2D(pool_size=(2, 2)))\n",
    "model.add(Dropout(0.5))\n",
    "model.add(Conv2D(256, (3, 3), activation='relu'))\n",
    "model.add(MaxPooling2D(pool_size=(2, 2)))\n",
    "model.add(Flatten())\n",
    "model.add(Dense(128, activation='relu'))\n",
    "model.add(Dense(7, activation='softmax'))\n",
    "\n",
    "model.compile(optimizer='adam', loss='categorical_crossentropy', metrics=['accuracy'])\n",
    "\n",
    "with tf.device('/GPU:0'):\n",
    "    model.fit(train_generator, epochs=EPOCHS)"
   ]
  },
  {
   "cell_type": "code",
   "execution_count": null,
   "metadata": {},
   "outputs": [],
   "source": [
    "model.save('test.keras')"
   ]
  },
  {
   "cell_type": "code",
   "execution_count": 6,
   "metadata": {},
   "outputs": [
    {
     "name": "stderr",
     "output_type": "stream",
     "text": [
      "2023-12-11 02:54:06.079111: I external/local_xla/xla/stream_executor/cuda/cuda_executor.cc:901] successful NUMA node read from SysFS had negative value (-1), but there must be at least one NUMA node, so returning NUMA node zero. See more at https://github.com/torvalds/linux/blob/v6.0/Documentation/ABI/testing/sysfs-bus-pci#L344-L355\n",
      "2023-12-11 02:54:06.100443: I external/local_xla/xla/stream_executor/cuda/cuda_executor.cc:901] successful NUMA node read from SysFS had negative value (-1), but there must be at least one NUMA node, so returning NUMA node zero. See more at https://github.com/torvalds/linux/blob/v6.0/Documentation/ABI/testing/sysfs-bus-pci#L344-L355\n",
      "2023-12-11 02:54:06.100561: I external/local_xla/xla/stream_executor/cuda/cuda_executor.cc:901] successful NUMA node read from SysFS had negative value (-1), but there must be at least one NUMA node, so returning NUMA node zero. See more at https://github.com/torvalds/linux/blob/v6.0/Documentation/ABI/testing/sysfs-bus-pci#L344-L355\n",
      "2023-12-11 02:54:06.101155: I external/local_xla/xla/stream_executor/cuda/cuda_executor.cc:901] successful NUMA node read from SysFS had negative value (-1), but there must be at least one NUMA node, so returning NUMA node zero. See more at https://github.com/torvalds/linux/blob/v6.0/Documentation/ABI/testing/sysfs-bus-pci#L344-L355\n",
      "2023-12-11 02:54:06.101238: I external/local_xla/xla/stream_executor/cuda/cuda_executor.cc:901] successful NUMA node read from SysFS had negative value (-1), but there must be at least one NUMA node, so returning NUMA node zero. See more at https://github.com/torvalds/linux/blob/v6.0/Documentation/ABI/testing/sysfs-bus-pci#L344-L355\n",
      "2023-12-11 02:54:06.101288: I external/local_xla/xla/stream_executor/cuda/cuda_executor.cc:901] successful NUMA node read from SysFS had negative value (-1), but there must be at least one NUMA node, so returning NUMA node zero. See more at https://github.com/torvalds/linux/blob/v6.0/Documentation/ABI/testing/sysfs-bus-pci#L344-L355\n",
      "2023-12-11 02:54:06.146021: I external/local_xla/xla/stream_executor/cuda/cuda_executor.cc:901] successful NUMA node read from SysFS had negative value (-1), but there must be at least one NUMA node, so returning NUMA node zero. See more at https://github.com/torvalds/linux/blob/v6.0/Documentation/ABI/testing/sysfs-bus-pci#L344-L355\n",
      "2023-12-11 02:54:06.146148: I external/local_xla/xla/stream_executor/cuda/cuda_executor.cc:901] successful NUMA node read from SysFS had negative value (-1), but there must be at least one NUMA node, so returning NUMA node zero. See more at https://github.com/torvalds/linux/blob/v6.0/Documentation/ABI/testing/sysfs-bus-pci#L344-L355\n",
      "2023-12-11 02:54:06.146210: I external/local_xla/xla/stream_executor/cuda/cuda_executor.cc:901] successful NUMA node read from SysFS had negative value (-1), but there must be at least one NUMA node, so returning NUMA node zero. See more at https://github.com/torvalds/linux/blob/v6.0/Documentation/ABI/testing/sysfs-bus-pci#L344-L355\n",
      "2023-12-11 02:54:06.146256: I tensorflow/core/common_runtime/gpu/gpu_device.cc:1929] Created device /job:localhost/replica:0/task:0/device:GPU:0 with 5839 MB memory:  -> device: 0, name: NVIDIA GeForce RTX 3060 Ti, pci bus id: 0000:01:00.0, compute capability: 8.6\n"
     ]
    },
    {
     "name": "stdout",
     "output_type": "stream",
     "text": [
      "Epoch 1/25\n"
     ]
    },
    {
     "name": "stderr",
     "output_type": "stream",
     "text": [
      "2023-12-11 02:54:06.845607: I external/local_xla/xla/stream_executor/cuda/cuda_dnn.cc:454] Loaded cuDNN version 8907\n",
      "2023-12-11 02:54:07.072966: I external/local_tsl/tsl/platform/default/subprocess.cc:304] Start cannot spawn child process: No such file or directory\n",
      "2023-12-11 02:54:07.304189: I external/local_tsl/tsl/platform/default/subprocess.cc:304] Start cannot spawn child process: No such file or directory\n",
      "2023-12-11 02:54:07.338168: I external/local_xla/xla/service/service.cc:168] XLA service 0x7f6478d2e640 initialized for platform CUDA (this does not guarantee that XLA will be used). Devices:\n",
      "2023-12-11 02:54:07.338185: I external/local_xla/xla/service/service.cc:176]   StreamExecutor device (0): NVIDIA GeForce RTX 3060 Ti, Compute Capability 8.6\n",
      "2023-12-11 02:54:07.341936: I tensorflow/compiler/mlir/tensorflow/utils/dump_mlir_util.cc:269] disabling MLIR crash reproducer, set env var `MLIR_CRASH_REPRODUCER_DIRECTORY` to enable.\n",
      "WARNING: All log messages before absl::InitializeLog() is called are written to STDERR\n",
      "I0000 00:00:1702256047.393651   16745 device_compiler.h:186] Compiled cluster using XLA!  This line is logged at most once for the lifetime of the process.\n"
     ]
    },
    {
     "name": "stdout",
     "output_type": "stream",
     "text": [
      "225/225 [==============================] - 6s 17ms/step - loss: 1.7665 - accuracy: 0.2756\n",
      "Epoch 2/25\n",
      "225/225 [==============================] - 3s 15ms/step - loss: 1.5681 - accuracy: 0.3887\n",
      "Epoch 3/25\n",
      "225/225 [==============================] - 3s 15ms/step - loss: 1.4267 - accuracy: 0.4538\n",
      "Epoch 4/25\n",
      "225/225 [==============================] - 3s 15ms/step - loss: 1.3458 - accuracy: 0.4855\n",
      "Epoch 5/25\n",
      "225/225 [==============================] - 3s 15ms/step - loss: 1.2960 - accuracy: 0.5090\n",
      "Epoch 6/25\n",
      "225/225 [==============================] - 4s 16ms/step - loss: 1.2526 - accuracy: 0.5255\n",
      "Epoch 7/25\n",
      "225/225 [==============================] - 4s 16ms/step - loss: 1.2228 - accuracy: 0.5353\n",
      "Epoch 8/25\n",
      "225/225 [==============================] - 3s 15ms/step - loss: 1.1905 - accuracy: 0.5482\n",
      "Epoch 9/25\n",
      "225/225 [==============================] - 3s 15ms/step - loss: 1.1617 - accuracy: 0.5592\n",
      "Epoch 10/25\n",
      "225/225 [==============================] - 3s 15ms/step - loss: 1.1405 - accuracy: 0.5683\n",
      "Epoch 11/25\n",
      "225/225 [==============================] - 3s 15ms/step - loss: 1.1194 - accuracy: 0.5733\n",
      "Epoch 12/25\n",
      "225/225 [==============================] - 3s 15ms/step - loss: 1.0970 - accuracy: 0.5831\n",
      "Epoch 13/25\n",
      "225/225 [==============================] - 3s 15ms/step - loss: 1.0809 - accuracy: 0.5913\n",
      "Epoch 14/25\n",
      "225/225 [==============================] - 3s 15ms/step - loss: 1.0667 - accuracy: 0.5958\n",
      "Epoch 15/25\n",
      "225/225 [==============================] - 3s 14ms/step - loss: 1.0433 - accuracy: 0.6067\n",
      "Epoch 16/25\n",
      "225/225 [==============================] - 3s 15ms/step - loss: 1.0301 - accuracy: 0.6121\n",
      "Epoch 17/25\n",
      "225/225 [==============================] - 4s 16ms/step - loss: 1.0141 - accuracy: 0.6163\n",
      "Epoch 18/25\n",
      "225/225 [==============================] - 3s 15ms/step - loss: 1.0003 - accuracy: 0.6267\n",
      "Epoch 19/25\n",
      "225/225 [==============================] - 4s 16ms/step - loss: 0.9826 - accuracy: 0.6324\n",
      "Epoch 20/25\n",
      "225/225 [==============================] - 4s 16ms/step - loss: 0.9682 - accuracy: 0.6347\n",
      "Epoch 21/25\n",
      "225/225 [==============================] - 4s 16ms/step - loss: 0.9528 - accuracy: 0.6414\n",
      "Epoch 22/25\n",
      "225/225 [==============================] - 4s 16ms/step - loss: 0.9416 - accuracy: 0.6476\n",
      "Epoch 23/25\n",
      "225/225 [==============================] - 4s 16ms/step - loss: 0.9285 - accuracy: 0.6543\n",
      "Epoch 24/25\n",
      "225/225 [==============================] - 4s 16ms/step - loss: 0.9104 - accuracy: 0.6622\n",
      "Epoch 25/25\n",
      "225/225 [==============================] - 3s 15ms/step - loss: 0.9018 - accuracy: 0.6646\n"
     ]
    }
   ],
   "source": [
    "model = Sequential()\n",
    "model.add(Conv2D(32, (3, 3), input_shape=(48, 48, 3), activation='relu'))\n",
    "model.add(MaxPooling2D(pool_size=(2, 2)))\n",
    "model.add(Conv2D(64, (3, 3), activation='relu'))\n",
    "model.add(MaxPooling2D(pool_size=(2, 2)))\n",
    "model.add(Conv2D(128, (3, 3), activation='relu'))\n",
    "model.add(MaxPooling2D(pool_size=(2, 2)))\n",
    "model.add(Flatten())\n",
    "model.add(Dense(128, activation='relu'))\n",
    "model.add(Dense(7, activation='softmax'))\n",
    "\n",
    "model.compile(optimizer='adam', loss='categorical_crossentropy', metrics=['accuracy'])\n",
    "\n",
    "with tf.device('/GPU:0'):\n",
    "    model.fit(train_generator, epochs=EPOCHS)"
   ]
  },
  {
   "cell_type": "code",
   "execution_count": null,
   "metadata": {},
   "outputs": [],
   "source": [
    "model.save('emotion_detection_model_with_face_detection.keras')"
   ]
  }
 ],
 "metadata": {
  "kernelspec": {
   "display_name": "myenv",
   "language": "python",
   "name": "python3"
  },
  "language_info": {
   "codemirror_mode": {
    "name": "ipython",
    "version": 3
   },
   "file_extension": ".py",
   "mimetype": "text/x-python",
   "name": "python",
   "nbconvert_exporter": "python",
   "pygments_lexer": "ipython3",
   "version": "3.11.7"
  }
 },
 "nbformat": 4,
 "nbformat_minor": 2
}
