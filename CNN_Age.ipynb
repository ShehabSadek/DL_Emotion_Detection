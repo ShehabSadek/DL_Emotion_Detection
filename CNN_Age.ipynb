{
 "cells": [
  {
   "cell_type": "code",
   "execution_count": 1,
   "metadata": {},
   "outputs": [],
   "source": [
    "import numpy as np\n",
    "import tensorflow as tf\n",
    "from tensorflow.keras.preprocessing.image import ImageDataGenerator\n",
    "from tensorflow.keras.models import Sequential\n",
    "from tensorflow.keras.layers import Conv2D, MaxPooling2D, Flatten, Dense\n",
    "from tensorflow.keras.layers import Input,Activation,Add,Dropout\n",
    "from tensorflow.keras.models import Model\n",
    "from tensorflow.keras.regularizers import l2"
   ]
  },
  {
   "cell_type": "code",
   "execution_count": 2,
   "metadata": {},
   "outputs": [],
   "source": [
    "IMAGE_SIZE = (48, 48)\n",
    "BATCH_SIZE = 32\n",
    "EPOCHS = 50\n",
    "\n",
    "train_data_dir = \"dataset/Age/train\""
   ]
  },
  {
   "cell_type": "code",
   "execution_count": 3,
   "metadata": {},
   "outputs": [
    {
     "name": "stdout",
     "output_type": "stream",
     "text": [
      "Found 125 images belonging to 5 classes.\n"
     ]
    }
   ],
   "source": [
    "train_datagen = ImageDataGenerator(\n",
    "    rescale=1./255,\n",
    "    shear_range=0.2,\n",
    "    zoom_range=0.2,\n",
    "    horizontal_flip=True,\n",
    "    vertical_flip=True\n",
    ")\n",
    "\n",
    "train_generator = train_datagen.flow_from_directory(\n",
    "    train_data_dir,\n",
    "    target_size=IMAGE_SIZE,\n",
    "    batch_size=BATCH_SIZE,\n",
    "    class_mode='categorical'\n",
    ")\n"
   ]
  },
  {
   "cell_type": "code",
   "execution_count": 4,
   "metadata": {},
   "outputs": [
    {
     "name": "stdout",
     "output_type": "stream",
     "text": [
      "Epoch 1/20\n",
      "4/4 [==============================] - 13s 3s/step - loss: 1.7360 - accuracy: 0.1600\n",
      "Epoch 2/20\n",
      "4/4 [==============================] - 13s 3s/step - loss: 1.6261 - accuracy: 0.2000\n",
      "Epoch 3/20\n",
      "4/4 [==============================] - 13s 3s/step - loss: 1.6318 - accuracy: 0.1680\n",
      "Epoch 4/20\n",
      "4/4 [==============================] - 13s 3s/step - loss: 1.6094 - accuracy: 0.2000\n",
      "Epoch 5/20\n",
      "4/4 [==============================] - 13s 3s/step - loss: 1.6116 - accuracy: 0.1920\n",
      "Epoch 6/20\n",
      "4/4 [==============================] - 13s 3s/step - loss: 1.6104 - accuracy: 0.2080\n",
      "Epoch 7/20\n",
      "4/4 [==============================] - 13s 3s/step - loss: 1.6072 - accuracy: 0.2160\n",
      "Epoch 8/20\n",
      "4/4 [==============================] - 13s 3s/step - loss: 1.6067 - accuracy: 0.2080\n",
      "Epoch 9/20\n",
      "4/4 [==============================] - 13s 3s/step - loss: 1.6064 - accuracy: 0.2160\n",
      "Epoch 10/20\n",
      "4/4 [==============================] - 13s 3s/step - loss: 1.6071 - accuracy: 0.2960\n",
      "Epoch 11/20\n",
      "4/4 [==============================] - 13s 3s/step - loss: 1.6110 - accuracy: 0.1920\n",
      "Epoch 12/20\n",
      "4/4 [==============================] - 13s 3s/step - loss: 1.6020 - accuracy: 0.2320\n",
      "Epoch 13/20\n",
      "4/4 [==============================] - 13s 3s/step - loss: 1.6046 - accuracy: 0.1920\n",
      "Epoch 14/20\n",
      "4/4 [==============================] - 13s 3s/step - loss: 1.6020 - accuracy: 0.2320\n",
      "Epoch 15/20\n",
      "4/4 [==============================] - 13s 3s/step - loss: 1.5975 - accuracy: 0.2240\n",
      "Epoch 16/20\n",
      "4/4 [==============================] - 13s 3s/step - loss: 1.6044 - accuracy: 0.1840\n",
      "Epoch 17/20\n",
      "4/4 [==============================] - 13s 3s/step - loss: 1.6039 - accuracy: 0.2480\n",
      "Epoch 18/20\n",
      "4/4 [==============================] - 13s 3s/step - loss: 1.5868 - accuracy: 0.2800\n",
      "Epoch 19/20\n",
      "4/4 [==============================] - 13s 3s/step - loss: 1.5868 - accuracy: 0.3040\n",
      "Epoch 20/20\n",
      "4/4 [==============================] - 13s 3s/step - loss: 1.5790 - accuracy: 0.2560\n"
     ]
    },
    {
     "data": {
      "text/plain": [
       "<keras.src.callbacks.History at 0x1699055d0>"
      ]
     },
     "execution_count": 4,
     "metadata": {},
     "output_type": "execute_result"
    }
   ],
   "source": [
    "model = Sequential()\n",
    "model.add(Conv2D(32, (3, 3), input_shape=(48, 48, 3), activation='relu'))\n",
    "model.add(MaxPooling2D(pool_size=(2, 2)))\n",
    "model.add(Dropout(0.5))\n",
    "model.add(Conv2D(64, (3, 3), activation='relu'))\n",
    "model.add(MaxPooling2D(pool_size=(2, 2)))\n",
    "model.add(Dropout(0.5))\n",
    "model.add(Conv2D(128, (3, 3), activation='relu'))\n",
    "model.add(MaxPooling2D(pool_size=(2, 2)))\n",
    "model.add(Dropout(0.5))\n",
    "model.add(Conv2D(256, (3, 3), activation='relu'))\n",
    "model.add(MaxPooling2D(pool_size=(2, 2)))\n",
    "model.add(Flatten())\n",
    "model.add(Dense(128, activation='relu'))\n",
    "model.add(Dense(5, activation='softmax'))\n",
    "\n",
    "model.compile(optimizer='adam', loss='categorical_crossentropy', metrics=['accuracy'])\n",
    "\n",
    "# with tf.device('/GPU:0'):\n",
    "model.fit(train_generator, epochs=EPOCHS)"
   ]
  },
  {
   "cell_type": "code",
   "execution_count": 5,
   "metadata": {},
   "outputs": [],
   "source": [
    "model.save('age_detection_model.keras')"
   ]
  }
 ],
 "metadata": {
  "kernelspec": {
   "display_name": "dl_env",
   "language": "python",
   "name": "python3"
  },
  "language_info": {
   "codemirror_mode": {
    "name": "ipython",
    "version": 3
   },
   "file_extension": ".py",
   "mimetype": "text/x-python",
   "name": "python",
   "nbconvert_exporter": "python",
   "pygments_lexer": "ipython3",
   "version": "3.11.6"
  }
 },
 "nbformat": 4,
 "nbformat_minor": 2
}
